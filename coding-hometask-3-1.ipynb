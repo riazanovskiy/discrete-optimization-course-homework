{
 "cells": [
  {
   "cell_type": "markdown",
   "metadata": {
    "deletable": true,
    "editable": true
   },
   "source": [
    "# Задание по курсу «Дискретная оптимизация», МФТИ, весна 2017"
   ]
  },
  {
   "cell_type": "markdown",
   "metadata": {
    "collapsed": true,
    "deletable": true,
    "editable": true
   },
   "source": [
    "## Задача 3-1. Задача TSP: инкрементальные алгоритмы.\n",
    "\n",
    "В этой задаче Вам предлагается сравнить алгоритмы Nearest Neighbour и Nearest Insertion в задаче Euclidean TSP.\n",
    "\n",
    "**Даны:**\n",
    "* Координаты точек плоскости, являющихся вершинами графа.\n",
    "\n",
    "**Найти:**\n",
    "* Перестановку вершин, задающих минимальный по длине гамильтонов цикл в графе.\n",
    "\n",
    "Сделайте следующее:\n",
    "* Скачайте файл [`tsp-instances.zip`](https://github.com/dainiak/discrete-optimization-course/raw/master/tsp-instances.zip) и разархивируйте из него файлы со входами задачи TSP.\n",
    "* Реализуйте функции `solve_tsp_nearest_neighbour` и `solve_tsp_nearest_insertion`.\n",
    "* Запустите функцию `run_all()`, чтобы протестировать свой код и сравнить качество решений, получаемых Nearest Neighbour и Nearest Insertion. Сильно ли они отличаются? Запишите свои качественные выводы в 1-2 предложениях в последней ячейке ipynb-файла."
   ]
  },
  {
   "cell_type": "code",
   "execution_count": 1,
   "metadata": {
    "collapsed": true,
    "deletable": true,
    "editable": true
   },
   "outputs": [],
   "source": [
    "def read_tsp_instance(filename):\n",
    "    with open(filename, 'r') as file:\n",
    "        coordinates = []\n",
    "        for line in file:\n",
    "            line = line.strip().lower()\n",
    "            if line.startswith('dimension'):\n",
    "                coordinates = [(0,0)] * int(line.split()[-1])\n",
    "            tokens = line.split()\n",
    "            if len(tokens) == 3 and tokens[0].isdecimal():\n",
    "                tokens = line.split()\n",
    "                coordinates[int(tokens[0])-1] = tuple(map(float, tokens[1:]))\n",
    "        return coordinates\n",
    "\n",
    "from math import hypot\n",
    "\n",
    "def euclidean_distance(point1, point2):\n",
    "    return hypot(point1[0] - point2[0], point1[1] - point2[1])\n",
    "\n",
    "def calculate_tour_length(instance, permutation):\n",
    "    n = len(permutation)\n",
    "    return sum(euclidean_distance(instance[permutation[i]], instance[permutation[(i+1) % n]]) for i in range(len(permutation)))"
   ]
  },
  {
   "cell_type": "code",
   "execution_count": 2,
   "metadata": {
    "collapsed": true,
    "deletable": true,
    "editable": true
   },
   "outputs": [],
   "source": [
    "import random"
   ]
  },
  {
   "cell_type": "code",
   "execution_count": 3,
   "metadata": {
    "collapsed": true,
    "deletable": true,
    "editable": true
   },
   "outputs": [],
   "source": [
    "def solve_tsp_nearest_neighbour(instance):\n",
    "    path = [random.randrange(len(instance))]\n",
    "    unvisited = set(range(len(instance))) - set(path)\n",
    "\n",
    "    while unvisited:\n",
    "        next_vertex = min(unvisited, key=lambda i: euclidean_distance(instance[i], instance[path[-1]]))\n",
    "        unvisited.remove(next_vertex)\n",
    "        path.append(next_vertex)\n",
    "\n",
    "    return path"
   ]
  },
  {
   "cell_type": "code",
   "execution_count": 4,
   "metadata": {
    "collapsed": true,
    "deletable": true,
    "editable": true
   },
   "outputs": [],
   "source": [
    "from itertools import combinations, product\n",
    "\n",
    "\n",
    "def solve_tsp_nearest_insertion(instance):\n",
    "    n_vertices = len(instance)\n",
    "    starting_edge = min(combinations(range(n_vertices), r=2),\n",
    "                        key=lambda p: euclidean_distance(instance[p[0]], instance[p[1]]))\n",
    "\n",
    "    path = list(starting_edge)\n",
    "    visited = set(path)\n",
    "    unvisited = set(range(n_vertices)) - visited\n",
    "\n",
    "    while len(visited) < n_vertices:\n",
    "        next_vertex, _ = min(product(unvisited, visited),\n",
    "                             key=lambda r: euclidean_distance(instance[r[0]], instance[r[1]]))\n",
    "\n",
    "        def edge_replacement_cost(edge):\n",
    "            _, (u, v) = edge\n",
    "            return (euclidean_distance(instance[u], instance[next_vertex]) +\n",
    "                    euclidean_distance(instance[next_vertex], instance[v]) -\n",
    "                    euclidean_distance(instance[u], instance[v]))\n",
    "\n",
    "        insertion_index, _ = min(enumerate(zip(path, path[1:] + [path[0]])), key=edge_replacement_cost)\n",
    "        visited.add(next_vertex)\n",
    "        unvisited.remove(next_vertex)\n",
    "        path.insert(insertion_index + 1, next_vertex)\n",
    "\n",
    "    return path"
   ]
  },
  {
   "cell_type": "code",
   "execution_count": 5,
   "metadata": {
    "collapsed": false,
    "deletable": true,
    "editable": true
   },
   "outputs": [],
   "source": [
    "import time\n",
    "from os.path import exists\n",
    "from tabulate import tabulate\n",
    "\n",
    "\n",
    "def run_all():\n",
    "    instance_filenames = ['d198.tsp', 'd493.tsp', 'd657.tsp', 'd2103.tsp',\n",
    "                          'pr107.tsp', 'pr152.tsp', 'pr439.tsp']\n",
    "    table = []\n",
    "    for filename in instance_filenames:\n",
    "        if not exists(filename):\n",
    "            print('File not found: “{}”. Skipping this instance.'.format(filename))\n",
    "            continue\n",
    "        print('Solving', filename)\n",
    "        instance = read_tsp_instance(filename)\n",
    "        time_start = time.monotonic()\n",
    "        quality_nn = calculate_tour_length(instance, solve_tsp_nearest_neighbour(instance))\n",
    "        time_nn = time.monotonic() - time_start\n",
    "        time_start = time.monotonic()\n",
    "        quality_ni = calculate_tour_length(instance, solve_tsp_nearest_insertion(instance))\n",
    "        time_ni = time.monotonic() - time_start\n",
    "        table.append([filename, f'{int(quality_nn)} ({time_nn:.2}s)', f'{int(quality_ni)} ({time_ni:.2}s)'])\n",
    "    print()\n",
    "    print(tabulate(table, headers=['Instance', 'NN', 'NI']))\n"
   ]
  },
  {
   "cell_type": "code",
   "execution_count": 6,
   "metadata": {
    "collapsed": false,
    "deletable": true,
    "editable": true
   },
   "outputs": [
    {
     "name": "stdout",
     "output_type": "stream",
     "text": [
      "Solving d198.tsp\n",
      "Solving d493.tsp\n",
      "Solving d657.tsp\n",
      "Solving d2103.tsp\n",
      "Solving pr107.tsp\n",
      "Solving pr152.tsp\n",
      "Solving pr439.tsp\n",
      "\n",
      "Instance    NN               NI\n",
      "----------  ---------------  ----------------\n",
      "d198.tsp    20391 (0.029s)   18050 (0.62s)\n",
      "d493.tsp    43784 (0.054s)   42130 (8.6s)\n",
      "d657.tsp    63486 (0.093s)   60081 (2.1e+01s)\n",
      "d2103.tsp   94679 (1.0s)     85771 (7.9e+02s)\n",
      "pr107.tsp   47033 (0.0026s)  53211 (0.096s)\n",
      "pr152.tsp   85288 (0.0051s)  88661 (0.27s)\n",
      "pr439.tsp   142214 (0.048s)  133705 (6.2s)\n"
     ]
    }
   ],
   "source": [
    "run_all()"
   ]
  },
  {
   "cell_type": "markdown",
   "metadata": {
    "collapsed": true,
    "deletable": true,
    "editable": true
   },
   "source": [
    "## Выводы\n",
    "\n"
   ]
  },
  {
   "cell_type": "markdown",
   "metadata": {
    "collapsed": true,
    "deletable": true,
    "editable": true
   },
   "source": [
    "По этим графам нельзя сказать, что один из алгоритмов строго лучше, несмотря на разные теоритические оценки -- здесь они дают схожие результаты (отличие не больше 10%).\n",
    "Увы, наивная реализация вставок работает намного дольше, чем алгоритм ближайшего соседа."
   ]
  }
 ],
 "metadata": {
  "kernelspec": {
   "display_name": "Python 3",
   "language": "python",
   "name": "python3"
  },
  "language_info": {
   "codemirror_mode": {
    "name": "ipython",
    "version": 3
   },
   "file_extension": ".py",
   "mimetype": "text/x-python",
   "name": "python",
   "nbconvert_exporter": "python",
   "pygments_lexer": "ipython3",
   "version": "3.6.0"
  }
 },
 "nbformat": 4,
 "nbformat_minor": 2
}
