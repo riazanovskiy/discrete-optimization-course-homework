{
 "cells": [
  {
   "cell_type": "markdown",
   "metadata": {
    "deletable": true,
    "editable": true
   },
   "source": [
    "# Задание по курсу «Дискретная оптимизация», МФТИ, весна 2017"
   ]
  },
  {
   "cell_type": "markdown",
   "metadata": {
    "deletable": true,
    "editable": true
   },
   "source": [
    "## Задача 2-1. Применяем простейший локальный поиск.\n",
    "\n",
    "В этой задаче Вам предлагается попробовать стандартную технику локального поиска (local search) в применении к задаче о сбалансированном разбиении графа. Мы будем рассматривать безвесовый вариант задачи с параметром балансировки $\\alpha=\\frac{1}{2}$:\n",
    "\n",
    "**Даны:**\n",
    "* $G=(V,E)$ — граф без весов на рёбрах\n",
    "\n",
    "**Найти:**\n",
    "* Разбиение $V=V'\\sqcup V''$, такое, что $V'=\\lfloor |V|/2 \\rfloor$ и число рёбер между $V'$ и $V''$ минимально возможное.\n",
    "\n",
    "Сделайте следующее:\n",
    "* [Скачайте](http://mat.gsia.cmu.edu/COLOR/instances.html#XXMYC) файлы mycielX.col  (`for X in range(1,8)`).  (Если интересно, откуда такие графы берутся и чем интересны, см. конструкцию Зыкова—Мыцельского [здесь](https://docs.com/dainiak/3327).)\n",
    "* Для каждого из графов найдите локальным поиском локально минимальное (по количеству рёбер между частями) разбиение вершин графа на две части, мощности которых отличаются не более чем на единицу. \n",
    "* Ваша функция `basic_local_search` должна принимать на вход граф в формате, предоставляемом функцией `read_col_file`, и возвращать найденное локально минимальное разбиение просто как множество либо список вершин, лежащих в одной любой из двух компонент разбиения."
   ]
  },
  {
   "cell_type": "code",
   "execution_count": 1,
   "metadata": {
    "collapsed": true,
    "deletable": true,
    "editable": true
   },
   "outputs": [],
   "source": [
    "def read_col_file(filename):\n",
    "    with open(filename, 'r') as file:\n",
    "        vertices, edges = set(), set()\n",
    "        for line in file:\n",
    "            line = line.strip()\n",
    "            if line.startswith('p'):\n",
    "                vertices = set(range(1, int(line.split()[-2]) + 1))\n",
    "            elif line.startswith('e'):\n",
    "                edges.add(tuple(map(int, line.split()[-2:])))\n",
    "        return (vertices, edges)"
   ]
  },
  {
   "cell_type": "code",
   "execution_count": 2,
   "metadata": {
    "collapsed": true,
    "deletable": true,
    "editable": true
   },
   "outputs": [],
   "source": [
    "import random\n",
    "\n",
    "def calculate_graph_cut_weight(edges, partition):\n",
    "    return sum((u in partition) ^ (v in partition) for u, v in edges)\n",
    "\n",
    "def neighbourhood(vertices, partition):\n",
    "    for v in vertices - partition:\n",
    "        for u in partition:\n",
    "            yield partition - {u} | {v}\n",
    "\n",
    "def basic_local_search(graph):\n",
    "    vertices, edges = graph\n",
    "    \n",
    "    partition = set(random.sample(vertices, len(vertices) // 2))\n",
    "    current_weight = calculate_graph_cut_weight(edges, partition)\n",
    "    \n",
    "    max_iter = 20000\n",
    "    \n",
    "    for i in range(max_iter):\n",
    "        best_neighbour = min(neighbourhood(vertices, partition), \n",
    "                             key=lambda x: calculate_graph_cut_weight(edges, x))\n",
    "        weight = calculate_graph_cut_weight(edges, best_neighbour)\n",
    "        if weight < current_weight:\n",
    "            current_weight = weight\n",
    "            partition = best_neighbour\n",
    "        else:\n",
    "            break\n",
    "    \n",
    "    print(current_weight)\n",
    "    \n",
    "    return partition"
   ]
  },
  {
   "cell_type": "code",
   "execution_count": 3,
   "metadata": {
    "collapsed": false
   },
   "outputs": [
    {
     "name": "stdout",
     "output_type": "stream",
     "text": [
      "8\n",
      "{2, 3, 5, 8, 9}\n",
      "27\n",
      "{3, 5, 8, 11, 13, 16, 18, 19, 20, 21, 23}\n",
      "93\n",
      "{1, 5, 6, 8, 9, 11, 13, 15, 20, 22, 24, 28, 29, 30, 31, 32, 33, 36, 38, 41, 42, 43, 47}\n",
      "293\n",
      "{4, 6, 8, 9, 10, 16, 17, 21, 23, 26, 27, 29, 31, 32, 35, 36, 37, 38, 39, 40, 41, 42, 43, 44, 45, 47, 48, 49, 51, 52, 58, 59, 60, 63, 69, 70, 74, 81, 82, 83, 84, 85, 86, 87, 91, 92, 94}\n",
      "922\n",
      "{2, 3, 5, 8, 11, 13, 14, 15, 22, 24, 26, 28, 29, 31, 34, 35, 36, 37, 38, 39, 40, 42, 43, 45, 49, 52, 53, 54, 55, 56, 57, 60, 62, 63, 65, 66, 67, 68, 71, 73, 75, 76, 77, 78, 79, 80, 82, 83, 84, 85, 86, 87, 88, 89, 90, 91, 92, 95, 96, 97, 98, 99, 100, 101, 102, 103, 104, 105, 106, 108, 117, 118, 119, 121, 124, 126, 142, 144, 147, 148, 149, 150, 151, 152, 155, 160, 161, 162, 165, 171, 173, 175, 184, 189, 190}\n"
     ]
    }
   ],
   "source": [
    "for i in range(3, 8):\n",
    "    graph = read_col_file(f'myciel{i}.col')\n",
    "    print(basic_local_search(graph))"
   ]
  },
  {
   "cell_type": "code",
   "execution_count": null,
   "metadata": {
    "collapsed": true
   },
   "outputs": [],
   "source": []
  }
 ],
 "metadata": {
  "kernelspec": {
   "display_name": "Python 3",
   "language": "python",
   "name": "python3"
  },
  "language_info": {
   "codemirror_mode": {
    "name": "ipython",
    "version": 3
   },
   "file_extension": ".py",
   "mimetype": "text/x-python",
   "name": "python",
   "nbconvert_exporter": "python",
   "pygments_lexer": "ipython3",
   "version": "3.6.0"
  }
 },
 "nbformat": 4,
 "nbformat_minor": 2
}
