{
 "cells": [
  {
   "cell_type": "markdown",
   "metadata": {},
   "source": [
    "# Задание по курсу «Дискретная оптимизация», МФТИ, весна 2017"
   ]
  },
  {
   "cell_type": "markdown",
   "metadata": {},
   "source": [
    "## Задача 1-1\n",
    "Предполагается, что функция `solve_bp_decision(weights, n_bins)` решает «распознавательный» (decision) вариант задачи bin packing. На вход ей подаётся список весов и число корзин. Функция возвращает булевский ответ на вопрос «можно ли заданные веса раскидать по не более чем `n_bins` контейнерам? Напишите содержимое функции `solve_bp_evaluation`, которая возвращает оптимальное число корзин (решает evaluation variant задачи bin packing) и затем содержимое функции `solve_bp_search`, которая возвращает список номеров корзин, которые при каком-нибудь оптимальном распределении присваиваются весам из списка `weights` (корзины нумеруются с единицы). Каждая из следующих функций должна вызывать предыдущую не более чем полиномиальное число раз."
   ]
  },
  {
   "cell_type": "code",
   "execution_count": 1,
   "metadata": {
    "collapsed": true
   },
   "outputs": [],
   "source": [
    "import itertools\n",
    "from typing import List"
   ]
  },
  {
   "cell_type": "code",
   "execution_count": 2,
   "metadata": {
    "collapsed": false
   },
   "outputs": [],
   "source": [
    "def solve_bp_decision(weights: List[float], n_bins: int) -> bool:\n",
    "    # stupid brute force\n",
    "    for p in itertools.product(range(n_bins), repeat=len(weights)):\n",
    "        bins = [0.0] * n_bins\n",
    "        for i, bin in enumerate(p):\n",
    "            bins[bin] += weights[i]\n",
    "        if all(bin <= 1.0 for bin in bins):\n",
    "            return True\n",
    "    return False"
   ]
  },
  {
   "cell_type": "code",
   "execution_count": 3,
   "metadata": {
    "collapsed": true
   },
   "outputs": [],
   "source": [
    "def solve_bp_evaluation(weights: List[float]) -> int:\n",
    "    left, right = 0, len(weights)\n",
    "    while right - left > 1:\n",
    "        middle = (left + right) // 2\n",
    "        if solve_bp_decision(weights, n_bins=middle):\n",
    "            right = middle\n",
    "        else:\n",
    "            left = middle\n",
    "    return right"
   ]
  },
  {
   "cell_type": "code",
   "execution_count": 4,
   "metadata": {
    "collapsed": false
   },
   "outputs": [],
   "source": [
    "def solve_bp_search(weights: List[float]) -> List[int]:\n",
    "    answer = solve_bp_evaluation(weights)\n",
    "    bins = [[i] for i in range(len(weights))]\n",
    "\n",
    "    merged_weights = weights[:]\n",
    "\n",
    "    too_bad = False\n",
    "\n",
    "    while not too_bad:\n",
    "        too_bad = True\n",
    "        for i, j in itertools.combinations(range(len(merged_weights)), 2):\n",
    "            if merged_weights[i] + merged_weights[j] <= 1.0:\n",
    "                too_bad = False\n",
    "                new_weights = (merged_weights[:i] + merged_weights[i + 1:j] +\n",
    "                               merged_weights[j + 1:] + [merged_weights[i] + merged_weights[j]])\n",
    "                if solve_bp_evaluation(new_weights) == answer:\n",
    "                    merged_weights = new_weights\n",
    "                    bins = (bins[:i] + bins[i + 1:j] + bins[j + 1:] + [bins[i] + bins[j]])\n",
    "                    break\n",
    "\n",
    "    solution = [0] * len(weights)\n",
    "\n",
    "    for idx, val in zip((i for bin in bins for i in bin),\n",
    "                        (i + 1 for i, bin in enumerate(bins) for j in range(len(bin)))):\n",
    "        solution[idx] = val\n",
    "\n",
    "    return solution"
   ]
  }
 ],
 "metadata": {
  "kernelspec": {
   "display_name": "Python 3",
   "language": "python",
   "name": "python3"
  },
  "language_info": {
   "codemirror_mode": {
    "name": "ipython",
    "version": 3
   },
   "file_extension": ".py",
   "mimetype": "text/x-python",
   "name": "python",
   "nbconvert_exporter": "python",
   "pygments_lexer": "ipython3",
   "version": "3.6.0"
  }
 },
 "nbformat": 4,
 "nbformat_minor": 0
}
